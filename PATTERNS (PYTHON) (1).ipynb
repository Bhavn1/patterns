{
 "cells": [
  {
   "cell_type": "markdown",
   "id": "802987ad",
   "metadata": {},
   "source": [
    "#                      TASK PATTERNS"
   ]
  },
  {
   "cell_type": "code",
   "execution_count": null,
   "id": "d52de5fa",
   "metadata": {},
   "outputs": [],
   "source": [
    "WRITE A PYTHON CODE TO PRINT THE FOLLOWING PATTERNS"
   ]
  },
  {
   "cell_type": "code",
   "execution_count": 1,
   "id": "1deb6a23",
   "metadata": {},
   "outputs": [],
   "source": [
    "# PATTERN 1"
   ]
  },
  {
   "cell_type": "code",
   "execution_count": 3,
   "id": "648a183e",
   "metadata": {},
   "outputs": [
    {
     "name": "stdout",
     "output_type": "stream",
     "text": [
      "1 \n",
      "1 2 \n",
      "1 2 3 \n",
      "1 2 3 4 \n",
      "1 2 3 4 5 \n"
     ]
    }
   ],
   "source": [
    "rows=5\n",
    "for i in range(1,rows+1):\n",
    "    for j in range(1,i+1):\n",
    "        print(j,end=' ')\n",
    "    print('')"
   ]
  },
  {
   "cell_type": "code",
   "execution_count": 4,
   "id": "d6983d70",
   "metadata": {},
   "outputs": [],
   "source": [
    "# PATTERN 2"
   ]
  },
  {
   "cell_type": "code",
   "execution_count": 5,
   "id": "98ab9a35",
   "metadata": {},
   "outputs": [
    {
     "name": "stdout",
     "output_type": "stream",
     "text": [
      "\n",
      "1 \n",
      "2 2 \n",
      "3 3 3 \n",
      "4 4 4 4 \n",
      "5 5 5 5 5 \n"
     ]
    }
   ],
   "source": [
    "rows=6\n",
    "for i in range(rows):\n",
    "    for j in range(i):\n",
    "        print(i,end=' ')\n",
    "    print('')"
   ]
  },
  {
   "cell_type": "code",
   "execution_count": 6,
   "id": "2090a283",
   "metadata": {},
   "outputs": [],
   "source": [
    "# PATTERN 3"
   ]
  },
  {
   "cell_type": "code",
   "execution_count": 9,
   "id": "7931fae8",
   "metadata": {},
   "outputs": [
    {
     "name": "stdout",
     "output_type": "stream",
     "text": [
      "*  \n",
      "*  *  \n",
      "*  *  *  \n",
      "*  *  *  *  \n",
      "*  *  *  *  *  \n"
     ]
    }
   ],
   "source": [
    "for i in range(1,6):\n",
    "    print(\"*  \"*i)"
   ]
  },
  {
   "cell_type": "code",
   "execution_count": 10,
   "id": "90997eca",
   "metadata": {},
   "outputs": [],
   "source": [
    "# PATTEN 4"
   ]
  },
  {
   "cell_type": "code",
   "execution_count": 11,
   "id": "bb15581a",
   "metadata": {},
   "outputs": [
    {
     "name": "stdout",
     "output_type": "stream",
     "text": [
      "5 4 3 2 1 \n",
      "4 3 2 1 \n",
      "3 2 1 \n",
      "2 1 \n",
      "1 \n",
      "\n"
     ]
    }
   ],
   "source": [
    "rows=5\n",
    "for i in range(0,rows+1):\n",
    "    for j in range(rows-i,0,-1):\n",
    "        print(j,end=' ')\n",
    "    print()"
   ]
  },
  {
   "cell_type": "code",
   "execution_count": 13,
   "id": "439543f7",
   "metadata": {},
   "outputs": [],
   "source": [
    "# PATTERN 5"
   ]
  },
  {
   "cell_type": "code",
   "execution_count": 15,
   "id": "ab5ccd78",
   "metadata": {},
   "outputs": [
    {
     "name": "stdout",
     "output_type": "stream",
     "text": [
      "5 5 5 5 5 \r\n",
      "4 4 4 4 \r\n",
      "3 3 3 \r\n",
      "2 2 \r\n",
      "1 \r\n"
     ]
    }
   ],
   "source": [
    "rows=5\n",
    "for i in range(rows,0,-1):\n",
    "    num=i\n",
    "    for j in range(0,i):\n",
    "        print(num,end=' ')\n",
    "    print(\"\\r\")"
   ]
  },
  {
   "cell_type": "code",
   "execution_count": 16,
   "id": "e24d7622",
   "metadata": {},
   "outputs": [],
   "source": [
    "# PATTERN 6"
   ]
  },
  {
   "cell_type": "code",
   "execution_count": 38,
   "id": "6c6614b7",
   "metadata": {},
   "outputs": [
    {
     "name": "stdout",
     "output_type": "stream",
     "text": [
      "*  *  *  *  *  \n",
      "*  *  *  *  \n",
      "*  *  *  \n",
      "*  *  \n",
      "*  \n"
     ]
    }
   ],
   "source": [
    "for i in range(5,0,-1):\n",
    "    print(\"*  \"*i)"
   ]
  },
  {
   "cell_type": "code",
   "execution_count": 39,
   "id": "1ccc42c4",
   "metadata": {},
   "outputs": [],
   "source": [
    "# PATTERN 7"
   ]
  },
  {
   "cell_type": "code",
   "execution_count": 40,
   "id": "11d6795a",
   "metadata": {},
   "outputs": [
    {
     "name": "stdout",
     "output_type": "stream",
     "text": [
      "1 \n",
      "2 3 \n",
      "4 5 6 \n",
      "7 8 9 10 \n"
     ]
    }
   ],
   "source": [
    "num = 1\n",
    "for i in range(4):\n",
    "    for j in range(i+1):\n",
    "        print(num, end=\" \")\n",
    "        num = num+1\n",
    "    print()"
   ]
  },
  {
   "cell_type": "code",
   "execution_count": 20,
   "id": "6ad30011",
   "metadata": {},
   "outputs": [],
   "source": [
    "# PATTERN 8"
   ]
  },
  {
   "cell_type": "code",
   "execution_count": 31,
   "id": "c2d785bc",
   "metadata": {},
   "outputs": [
    {
     "name": "stdout",
     "output_type": "stream",
     "text": [
      "     * \n",
      "    *  * \n",
      "   *  *  * \n",
      "  *  *  *  * \n",
      " *  *  *  *  * \n"
     ]
    }
   ],
   "source": [
    "for i in range(1,6):\n",
    "    print(\" \"*(5-i)+\" * \"* i)"
   ]
  },
  {
   "cell_type": "code",
   "execution_count": null,
   "id": "e592ab88",
   "metadata": {},
   "outputs": [],
   "source": []
  },
  {
   "cell_type": "code",
   "execution_count": null,
   "id": "b9eef593",
   "metadata": {},
   "outputs": [],
   "source": []
  }
 ],
 "metadata": {
  "kernelspec": {
   "display_name": "Python 3 (ipykernel)",
   "language": "python",
   "name": "python3"
  },
  "language_info": {
   "codemirror_mode": {
    "name": "ipython",
    "version": 3
   },
   "file_extension": ".py",
   "mimetype": "text/x-python",
   "name": "python",
   "nbconvert_exporter": "python",
   "pygments_lexer": "ipython3",
   "version": "3.9.13"
  }
 },
 "nbformat": 4,
 "nbformat_minor": 5
}
